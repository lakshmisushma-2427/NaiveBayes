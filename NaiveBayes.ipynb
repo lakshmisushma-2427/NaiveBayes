{
  "nbformat": 4,
  "nbformat_minor": 0,
  "metadata": {
    "colab": {
      "name": "NaiveBayes.ipynb",
      "provenance": [],
      "include_colab_link": true
    },
    "kernelspec": {
      "name": "python3",
      "display_name": "Python 3"
    },
    "language_info": {
      "name": "python"
    }
  },
  "cells": [
    {
      "cell_type": "markdown",
      "metadata": {
        "id": "view-in-github",
        "colab_type": "text"
      },
      "source": [
        "<a href=\"https://colab.research.google.com/github/lakshmisushma-2427/NaiveBayes/blob/main/NaiveBayes.ipynb\" target=\"_parent\"><img src=\"https://colab.research.google.com/assets/colab-badge.svg\" alt=\"Open In Colab\"/></a>"
      ]
    },
    {
      "cell_type": "code",
      "metadata": {
        "id": "Q0tZjZjh-y6d"
      },
      "source": [
        "import pandas as pd"
      ],
      "execution_count": null,
      "outputs": []
    },
    {
      "cell_type": "code",
      "metadata": {
        "colab": {
          "base_uri": "https://localhost:8080/"
        },
        "id": "4-1iQRzJ_ZGb",
        "outputId": "8dba94ec-a25b-4260-a506-db466bcc1977"
      },
      "source": [
        "data=pd.read_csv(\"/content/cars.csv\")\n",
        "print(data)"
      ],
      "execution_count": null,
      "outputs": [
        {
          "output_type": "stream",
          "text": [
            "   S.NO   color    type    origin stolen(class)\n",
            "0     1     red  sports  domestic           yes\n",
            "1     2     red  sports  domestic            no\n",
            "2     3     red     suv  imported            no\n",
            "3     4  yellow  sports  imported           yes\n",
            "4     5  yellow     suv  imported           yes\n",
            "5     6     red  sports  imported           yes\n"
          ],
          "name": "stdout"
        }
      ]
    },
    {
      "cell_type": "code",
      "metadata": {
        "colab": {
          "base_uri": "https://localhost:8080/"
        },
        "id": "_zOIUR7A_hqU",
        "outputId": "fe03415f-6c96-46c6-a2bd-90565d48c1e1"
      },
      "source": [
        "from sklearn import preprocessing\n",
        "#creating labelEncoder\n",
        "le = preprocessing.LabelEncoder()\n",
        "# Converting string labels into numbers.\n",
        "Color_encoded=le.fit_transform(data['color'])\n",
        "Type_encoded=le.fit_transform(data['type'])\n",
        "Origin_encoded=le.fit_transform(data['origin'])\n",
        "label=le.fit_transform(data['stolen(class)'])\n",
        "print (Color_encoded)\n",
        "print (Type_encoded)\n",
        "print (Origin_encoded)\n",
        "print (label)"
      ],
      "execution_count": null,
      "outputs": [
        {
          "output_type": "stream",
          "text": [
            "[0 0 0 1 1 0]\n",
            "[0 0 1 0 1 0]\n",
            "[0 0 1 1 1 1]\n",
            "[1 0 0 1 1 1]\n"
          ],
          "name": "stdout"
        }
      ]
    },
    {
      "cell_type": "code",
      "metadata": {
        "colab": {
          "base_uri": "https://localhost:8080/"
        },
        "id": "Q_3o--Rm_jpk",
        "outputId": "32ad4cea-4e0d-40a9-c959-10d2c23fbc91"
      },
      "source": [
        "features=zip(Color_encoded,Type_encoded,Origin_encoded)\n",
        "f=list(features)\n",
        "print(f)"
      ],
      "execution_count": null,
      "outputs": [
        {
          "output_type": "stream",
          "text": [
            "[(0, 0, 0), (0, 0, 0), (0, 1, 1), (1, 0, 1), (1, 1, 1), (0, 0, 1)]\n"
          ],
          "name": "stdout"
        }
      ]
    },
    {
      "cell_type": "code",
      "metadata": {
        "colab": {
          "base_uri": "https://localhost:8080/"
        },
        "id": "_OewiKCl_nzS",
        "outputId": "fc440ad7-c96b-4a91-ef47-9487ee6e04fb"
      },
      "source": [
        "from sklearn.naive_bayes import GaussianNB\n",
        "model = GaussianNB()\n",
        "# Train the model using the training sets\n",
        "model.fit(f,label)\n",
        "\n",
        "#Predict Output\n",
        "predicted= model.predict([[1,1,0]]) # 1:Yellow, 1:Sports,0:Domestic\n",
        "print(predicted)"
      ],
      "execution_count": null,
      "outputs": [
        {
          "output_type": "stream",
          "text": [
            "[1]\n"
          ],
          "name": "stdout"
        }
      ]
    }
  ]
}